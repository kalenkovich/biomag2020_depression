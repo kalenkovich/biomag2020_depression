{
 "cells": [
  {
   "cell_type": "code",
   "execution_count": 1,
   "metadata": {},
   "outputs": [],
   "source": [
    "from pathlib import Path\n",
    "import shutil"
   ]
  },
  {
   "cell_type": "code",
   "execution_count": 2,
   "metadata": {},
   "outputs": [],
   "source": [
    "import mne\n",
    "import mne_bids\n",
    "from bids import BIDSLayout, BIDSValidator"
   ]
  },
  {
   "cell_type": "markdown",
   "metadata": {},
   "source": [
    "# Move one file to BIDS "
   ]
  },
  {
   "cell_type": "code",
   "execution_count": 3,
   "metadata": {},
   "outputs": [],
   "source": [
    "project_root = Path() / '..'\n",
    "original_data_dir = project_root / 'BIOMAG2020_comp_data'\n",
    "bids_root = project_root / 'data_bids'"
   ]
  },
  {
   "cell_type": "code",
   "execution_count": 4,
   "metadata": {
    "scrolled": true
   },
   "outputs": [
    {
     "name": "stdout",
     "output_type": "stream",
     "text": [
      "ds directory : ..\\BIOMAG2020_comp_data\\BQBBKEBX_rest_20160310_01.ds\n",
      "    res4 data read.\n",
      "    hc data read.\n",
      "    Separate EEG position data file read.\n",
      "    Quaternion matching (desired vs. transformed):\n",
      "       1.22   70.14   -0.00 mm <->    1.22   70.14   -0.00 mm (orig :  -41.87   55.70 -288.62 mm) diff =    0.000 mm\n",
      "      -1.22  -70.14    0.00 mm <->   -1.22  -70.14    0.00 mm (orig :   53.90  -46.56 -281.26 mm) diff =    0.000 mm\n",
      "     100.53    0.00    0.00 mm <->  100.53    0.00    0.00 mm (orig :   66.31   67.07 -234.29 mm) diff =    0.000 mm\n",
      "    Coordinate transformations established.\n",
      "    Polhemus data for 3 HPI coils added\n",
      "    Device coordinate locations for 3 HPI coils added\n",
      "    Measurement info composed.\n",
      "Finding samples for ..\\BIOMAG2020_comp_data\\BQBBKEBX_rest_20160310_01.ds\\BQBBKEBX_rest_20160310_01.meg4: \n",
      "    System clock channel is available, checking which samples are valid.\n",
      "    1 x 300000 = 300000 samples from 301 chs\n",
      "Current compensation grade : 3\n"
     ]
    }
   ],
   "source": [
    "raw = mne.io.read_raw_ctf(str(original_data_dir / 'BQBBKEBX_rest_20160310_01.ds'))\n",
    "bids_basename = mne_bids.make_bids_basename(\n",
    "    subject=raw.info['subject_info']['his_id'],\n",
    "    session=str(raw.info['meas_id']['secs']),\n",
    "    task='restingstate'\n",
    ")\n",
    "# mne_bids.write_raw_bids(\n",
    "#     raw=raw, bids_basename=bids_basename, bids_root=bids_root)"
   ]
  },
  {
   "cell_type": "markdown",
   "metadata": {},
   "source": [
    "# Save one derivative file "
   ]
  },
  {
   "cell_type": "code",
   "execution_count": 5,
   "metadata": {},
   "outputs": [],
   "source": [
    "input_filepath = bids_root / 'sub-BQBBKEBX' / 'ses-1457629800' / 'meg' / 'sub-BQBBKEBX_ses-1457629800_task-restingstate_meg.json'"
   ]
  },
  {
   "cell_type": "code",
   "execution_count": 6,
   "metadata": {},
   "outputs": [],
   "source": [
    "derivatives_root = bids_root / 'derivatives' / 'test_pipeline'"
   ]
  },
  {
   "cell_type": "code",
   "execution_count": 7,
   "metadata": {},
   "outputs": [],
   "source": [
    "output_filepath = derivatives_root / input_filepath.relative_to(bids_root)"
   ]
  },
  {
   "cell_type": "code",
   "execution_count": 8,
   "metadata": {},
   "outputs": [],
   "source": [
    "output_filepath.parent.mkdir(parents=True, exist_ok=True)"
   ]
  },
  {
   "cell_type": "code",
   "execution_count": 9,
   "metadata": {},
   "outputs": [],
   "source": [
    "if not output_filepath.exists():\n",
    "    shutil.copy(str(input_filepath), str(output_filepath))"
   ]
  },
  {
   "cell_type": "markdown",
   "metadata": {},
   "source": [
    "# Locate files using `pybids`"
   ]
  },
  {
   "cell_type": "code",
   "execution_count": 13,
   "metadata": {},
   "outputs": [
    {
     "data": {
      "text/plain": [
       "BIDS Layout: ...OMAG2020_competetion\\data_bids | Subjects: 1 | Sessions: 1 | Runs: 0"
      ]
     },
     "execution_count": 13,
     "metadata": {},
     "output_type": "execute_result"
    }
   ],
   "source": [
    "# validate=False because bids-validator fails on Windows\n",
    "bids_layout = BIDSLayout(root=bids_root, validate=True)\n",
    "bids_layout"
   ]
  },
  {
   "cell_type": "code",
   "execution_count": 11,
   "metadata": {},
   "outputs": [
    {
     "data": {
      "text/plain": [
       "[WindowsPath('sub-BQBBKEBX/ses-1457629800/meg/sub-BQBBKEBX_ses-1457629800_task-restingstate_meg.json')]"
      ]
     },
     "execution_count": 11,
     "metadata": {},
     "output_type": "execute_result"
    }
   ],
   "source": [
    "# Retrieve filenames of all BOLD runs for subject 01\n",
    "json_files = bids_layout.get(return_type='file', suffix='meg', extension='json')\n",
    "input_files = [Path(filepath).relative_to(bids_root.resolve()) for filepath in json_files]\n",
    "input_files"
   ]
  },
  {
   "cell_type": "code",
   "execution_count": 12,
   "metadata": {},
   "outputs": [
    {
     "data": {
      "text/plain": [
       "True"
      ]
     },
     "execution_count": 12,
     "metadata": {},
     "output_type": "execute_result"
    }
   ],
   "source": [
    "(bids_root / input_files[0]) == input_filepath"
   ]
  },
  {
   "cell_type": "code",
   "execution_count": 19,
   "metadata": {},
   "outputs": [],
   "source": [
    "output_files = [derivatives_root / input_file for input_file in input_files]"
   ]
  },
  {
   "cell_type": "code",
   "execution_count": 20,
   "metadata": {},
   "outputs": [
    {
     "data": {
      "text/plain": [
       "[WindowsPath('../data_bids/derivatives/test_pipeline/sub-BQBBKEBX/ses-1457629800/meg/sub-BQBBKEBX_ses-1457629800_task-restingstate_meg.json')]"
      ]
     },
     "execution_count": 20,
     "metadata": {},
     "output_type": "execute_result"
    }
   ],
   "source": [
    "output_files"
   ]
  },
  {
   "cell_type": "markdown",
   "metadata": {},
   "source": [
    "# Convert to BIDS (2 sessions)"
   ]
  },
  {
   "cell_type": "code",
   "execution_count": 14,
   "metadata": {},
   "outputs": [
    {
     "data": {
      "text/plain": [
       "72"
      ]
     },
     "execution_count": 14,
     "metadata": {},
     "output_type": "execute_result"
    }
   ],
   "source": [
    "folders = list(original_data_dir.glob('*.ds'))\n",
    "len(folders)"
   ]
  },
  {
   "cell_type": "code",
   "execution_count": 13,
   "metadata": {
    "collapsed": true
   },
   "outputs": [
    {
     "name": "stdout",
     "output_type": "stream",
     "text": [
      "ds directory : ..\\BIOMAG2020_comp_data\\BQBBKEBX_rest_20160324_01.ds\n",
      "    res4 data read.\n",
      "    hc data read.\n",
      "    Separate EEG position data file read.\n",
      "    Quaternion matching (desired vs. transformed):\n",
      "      -0.23   70.70    0.00 mm <->   -0.23   70.70   -0.00 mm (orig :  -45.34   55.20 -271.00 mm) diff =    0.000 mm\n",
      "       0.23  -70.70   -0.00 mm <->    0.23  -70.70   -0.00 mm (orig :   58.48  -40.67 -275.82 mm) diff =    0.000 mm\n",
      "     101.34   -0.00    0.00 mm <->  101.34    0.00    0.00 mm (orig :   68.19   71.02 -224.34 mm) diff =    0.000 mm\n",
      "    Coordinate transformations established.\n",
      "    Polhemus data for 3 HPI coils added\n",
      "    Device coordinate locations for 3 HPI coils added\n",
      "    Measurement info composed.\n",
      "Finding samples for ..\\BIOMAG2020_comp_data\\BQBBKEBX_rest_20160324_01.ds\\BQBBKEBX_rest_20160324_01.meg4: \n",
      "    System clock channel is available, checking which samples are valid.\n",
      "    1 x 300000 = 300000 samples from 301 chs\n",
      "Current compensation grade : 3\n",
      "ds directory : ..\\BIOMAG2020_comp_data\\BQBBKEBX_rest_20160324_01.ds\n",
      "    res4 data read.\n",
      "    hc data read.\n",
      "    Separate EEG position data file read.\n",
      "    Quaternion matching (desired vs. transformed):\n",
      "      -0.23   70.70    0.00 mm <->   -0.23   70.70   -0.00 mm (orig :  -45.34   55.20 -271.00 mm) diff =    0.000 mm\n",
      "       0.23  -70.70   -0.00 mm <->    0.23  -70.70   -0.00 mm (orig :   58.48  -40.67 -275.82 mm) diff =    0.000 mm\n",
      "     101.34   -0.00    0.00 mm <->  101.34    0.00    0.00 mm (orig :   68.19   71.02 -224.34 mm) diff =    0.000 mm\n",
      "    Coordinate transformations established.\n",
      "    Polhemus data for 3 HPI coils added\n",
      "    Device coordinate locations for 3 HPI coils added\n",
      "    Measurement info composed.\n",
      "Finding samples for ..\\BIOMAG2020_comp_data\\BQBBKEBX_rest_20160324_01.ds\\BQBBKEBX_rest_20160324_01.meg4: \n",
      "    System clock channel is available, checking which samples are valid.\n",
      "    1 x 300000 = 300000 samples from 301 chs\n",
      "Current compensation grade : 3\n",
      "Effective window size : 0.213 (s)\n"
     ]
    },
    {
     "ename": "FileExistsError",
     "evalue": "[WinError 183] Cannot create a file when that file already exists: '..\\\\data_bids\\\\sub-BQBBKEBX\\\\ses-1458832200\\\\meg\\\\sub-BQBBKEBX_ses-1458832200_task-restingstate_meg.ds'",
     "output_type": "error",
     "traceback": [
      "\u001b[1;31m---------------------------------------------------------------------------\u001b[0m",
      "\u001b[1;31mFileExistsError\u001b[0m                           Traceback (most recent call last)",
      "\u001b[1;32m<ipython-input-13-38f94307778f>\u001b[0m in \u001b[0;36m<module>\u001b[1;34m\u001b[0m\n\u001b[0;32m      7\u001b[0m     )\n\u001b[0;32m      8\u001b[0m \u001b[1;33m\u001b[0m\u001b[0m\n\u001b[1;32m----> 9\u001b[1;33m     \u001b[0mmne_bids\u001b[0m\u001b[1;33m.\u001b[0m\u001b[0mwrite_raw_bids\u001b[0m\u001b[1;33m(\u001b[0m\u001b[0mraw\u001b[0m\u001b[1;33m=\u001b[0m\u001b[0mraw\u001b[0m\u001b[1;33m,\u001b[0m \u001b[0mbids_basename\u001b[0m\u001b[1;33m=\u001b[0m\u001b[0mbids_basename\u001b[0m\u001b[1;33m,\u001b[0m \u001b[0mbids_root\u001b[0m\u001b[1;33m=\u001b[0m\u001b[0mbids_root\u001b[0m\u001b[1;33m,\u001b[0m \u001b[0mverbose\u001b[0m\u001b[1;33m=\u001b[0m\u001b[1;32mFalse\u001b[0m\u001b[1;33m,\u001b[0m \u001b[0moverwrite\u001b[0m\u001b[1;33m=\u001b[0m\u001b[1;32mTrue\u001b[0m\u001b[1;33m)\u001b[0m\u001b[1;33m\u001b[0m\u001b[1;33m\u001b[0m\u001b[0m\n\u001b[0m",
      "\u001b[1;32mC:\\Programs\\Anaconda3\\envs\\biomag2020\\lib\\site-packages\\mne_bids\\write.py\u001b[0m in \u001b[0;36mwrite_raw_bids\u001b[1;34m(raw, bids_basename, bids_root, events_data, event_id, anonymize, overwrite, verbose)\u001b[0m\n\u001b[0;32m   1328\u001b[0m     \u001b[1;31m# CTF data is saved and renamed in a directory\u001b[0m\u001b[1;33m\u001b[0m\u001b[1;33m\u001b[0m\u001b[1;33m\u001b[0m\u001b[0m\n\u001b[0;32m   1329\u001b[0m     \u001b[1;32melif\u001b[0m \u001b[0mext\u001b[0m \u001b[1;33m==\u001b[0m \u001b[1;34m'.ds'\u001b[0m\u001b[1;33m:\u001b[0m\u001b[1;33m\u001b[0m\u001b[1;33m\u001b[0m\u001b[0m\n\u001b[1;32m-> 1330\u001b[1;33m         \u001b[0mcopyfile_ctf\u001b[0m\u001b[1;33m(\u001b[0m\u001b[0mraw_fname\u001b[0m\u001b[1;33m,\u001b[0m \u001b[0mbids_fname\u001b[0m\u001b[1;33m)\u001b[0m\u001b[1;33m\u001b[0m\u001b[1;33m\u001b[0m\u001b[0m\n\u001b[0m\u001b[0;32m   1331\u001b[0m     \u001b[1;31m# BrainVision is multifile, copy over all of them and fix pointers\u001b[0m\u001b[1;33m\u001b[0m\u001b[1;33m\u001b[0m\u001b[1;33m\u001b[0m\u001b[0m\n\u001b[0;32m   1332\u001b[0m     \u001b[1;32melif\u001b[0m \u001b[0mext\u001b[0m \u001b[1;33m==\u001b[0m \u001b[1;34m'.vhdr'\u001b[0m\u001b[1;33m:\u001b[0m\u001b[1;33m\u001b[0m\u001b[1;33m\u001b[0m\u001b[0m\n",
      "\u001b[1;32mC:\\Programs\\Anaconda3\\envs\\biomag2020\\lib\\site-packages\\mne_bids\\copyfiles.py\u001b[0m in \u001b[0;36mcopyfile_ctf\u001b[1;34m(src, dest)\u001b[0m\n\u001b[0;32m    142\u001b[0m \u001b[1;33m\u001b[0m\u001b[0m\n\u001b[0;32m    143\u001b[0m     \"\"\"\n\u001b[1;32m--> 144\u001b[1;33m     \u001b[0m_copytree\u001b[0m\u001b[1;33m(\u001b[0m\u001b[0msrc\u001b[0m\u001b[1;33m,\u001b[0m \u001b[0mdest\u001b[0m\u001b[1;33m)\u001b[0m\u001b[1;33m\u001b[0m\u001b[1;33m\u001b[0m\u001b[0m\n\u001b[0m\u001b[0;32m    145\u001b[0m     \u001b[1;31m# list of file types to rename\u001b[0m\u001b[1;33m\u001b[0m\u001b[1;33m\u001b[0m\u001b[1;33m\u001b[0m\u001b[0m\n\u001b[0;32m    146\u001b[0m     file_types = ('.acq', '.eeg', '.hc', '.hist', '.infods', '.bak',\n",
      "\u001b[1;32mC:\\Programs\\Anaconda3\\envs\\biomag2020\\lib\\site-packages\\mne_bids\\copyfiles.py\u001b[0m in \u001b[0;36m_copytree\u001b[1;34m(src, dst, **kwargs)\u001b[0m\n\u001b[0;32m     29\u001b[0m     \u001b[1;34m\"\"\"See: https://github.com/jupyterlab/jupyterlab/pull/5150.\"\"\"\u001b[0m\u001b[1;33m\u001b[0m\u001b[1;33m\u001b[0m\u001b[0m\n\u001b[0;32m     30\u001b[0m     \u001b[1;32mtry\u001b[0m\u001b[1;33m:\u001b[0m\u001b[1;33m\u001b[0m\u001b[1;33m\u001b[0m\u001b[0m\n\u001b[1;32m---> 31\u001b[1;33m         \u001b[0msh\u001b[0m\u001b[1;33m.\u001b[0m\u001b[0mcopytree\u001b[0m\u001b[1;33m(\u001b[0m\u001b[0msrc\u001b[0m\u001b[1;33m,\u001b[0m \u001b[0mdst\u001b[0m\u001b[1;33m,\u001b[0m \u001b[1;33m**\u001b[0m\u001b[0mkwargs\u001b[0m\u001b[1;33m)\u001b[0m\u001b[1;33m\u001b[0m\u001b[1;33m\u001b[0m\u001b[0m\n\u001b[0m\u001b[0;32m     32\u001b[0m     \u001b[1;32mexcept\u001b[0m \u001b[0msh\u001b[0m\u001b[1;33m.\u001b[0m\u001b[0mError\u001b[0m \u001b[1;32mas\u001b[0m \u001b[0merror\u001b[0m\u001b[1;33m:\u001b[0m\u001b[1;33m\u001b[0m\u001b[1;33m\u001b[0m\u001b[0m\n\u001b[0;32m     33\u001b[0m         \u001b[1;31m# `copytree` throws an error if copying to + from NFS even though\u001b[0m\u001b[1;33m\u001b[0m\u001b[1;33m\u001b[0m\u001b[1;33m\u001b[0m\u001b[0m\n",
      "\u001b[1;32mC:\\Programs\\Anaconda3\\envs\\biomag2020\\lib\\shutil.py\u001b[0m in \u001b[0;36mcopytree\u001b[1;34m(src, dst, symlinks, ignore, copy_function, ignore_dangling_symlinks)\u001b[0m\n\u001b[0;32m    322\u001b[0m         \u001b[0mignored_names\u001b[0m \u001b[1;33m=\u001b[0m \u001b[0mset\u001b[0m\u001b[1;33m(\u001b[0m\u001b[1;33m)\u001b[0m\u001b[1;33m\u001b[0m\u001b[1;33m\u001b[0m\u001b[0m\n\u001b[0;32m    323\u001b[0m \u001b[1;33m\u001b[0m\u001b[0m\n\u001b[1;32m--> 324\u001b[1;33m     \u001b[0mos\u001b[0m\u001b[1;33m.\u001b[0m\u001b[0mmakedirs\u001b[0m\u001b[1;33m(\u001b[0m\u001b[0mdst\u001b[0m\u001b[1;33m)\u001b[0m\u001b[1;33m\u001b[0m\u001b[1;33m\u001b[0m\u001b[0m\n\u001b[0m\u001b[0;32m    325\u001b[0m     \u001b[0merrors\u001b[0m \u001b[1;33m=\u001b[0m \u001b[1;33m[\u001b[0m\u001b[1;33m]\u001b[0m\u001b[1;33m\u001b[0m\u001b[1;33m\u001b[0m\u001b[0m\n\u001b[0;32m    326\u001b[0m     \u001b[1;32mfor\u001b[0m \u001b[0mname\u001b[0m \u001b[1;32min\u001b[0m \u001b[0mnames\u001b[0m\u001b[1;33m:\u001b[0m\u001b[1;33m\u001b[0m\u001b[1;33m\u001b[0m\u001b[0m\n",
      "\u001b[1;32mC:\\Programs\\Anaconda3\\envs\\biomag2020\\lib\\os.py\u001b[0m in \u001b[0;36mmakedirs\u001b[1;34m(name, mode, exist_ok)\u001b[0m\n\u001b[0;32m    221\u001b[0m             \u001b[1;32mreturn\u001b[0m\u001b[1;33m\u001b[0m\u001b[1;33m\u001b[0m\u001b[0m\n\u001b[0;32m    222\u001b[0m     \u001b[1;32mtry\u001b[0m\u001b[1;33m:\u001b[0m\u001b[1;33m\u001b[0m\u001b[1;33m\u001b[0m\u001b[0m\n\u001b[1;32m--> 223\u001b[1;33m         \u001b[0mmkdir\u001b[0m\u001b[1;33m(\u001b[0m\u001b[0mname\u001b[0m\u001b[1;33m,\u001b[0m \u001b[0mmode\u001b[0m\u001b[1;33m)\u001b[0m\u001b[1;33m\u001b[0m\u001b[1;33m\u001b[0m\u001b[0m\n\u001b[0m\u001b[0;32m    224\u001b[0m     \u001b[1;32mexcept\u001b[0m \u001b[0mOSError\u001b[0m\u001b[1;33m:\u001b[0m\u001b[1;33m\u001b[0m\u001b[1;33m\u001b[0m\u001b[0m\n\u001b[0;32m    225\u001b[0m         \u001b[1;31m# Cannot rely on checking for EEXIST, since the operating system\u001b[0m\u001b[1;33m\u001b[0m\u001b[1;33m\u001b[0m\u001b[1;33m\u001b[0m\u001b[0m\n",
      "\u001b[1;31mFileExistsError\u001b[0m: [WinError 183] Cannot create a file when that file already exists: '..\\\\data_bids\\\\sub-BQBBKEBX\\\\ses-1458832200\\\\meg\\\\sub-BQBBKEBX_ses-1458832200_task-restingstate_meg.ds'"
     ]
    }
   ],
   "source": [
    "for folder in folders[1:4]:\n",
    "    raw = mne.io.read_raw_ctf(str(folder))\n",
    "    bids_basename = mne_bids.make_bids_basename(\n",
    "        subject=raw.info['subject_info']['his_id'],\n",
    "        session=str(raw.info['meas_id']['secs']),\n",
    "        task='restingstate'\n",
    "    )\n",
    "\n",
    "    mne_bids.write_raw_bids(raw=raw, bids_basename=bids_basename, bids_root=bids_root, verbose=False, overwrite=True) #overwrite doesnt work"
   ]
  }
 ],
 "metadata": {
  "kernelspec": {
   "display_name": "Python 3",
   "language": "python",
   "name": "python3"
  },
  "language_info": {
   "codemirror_mode": {
    "name": "ipython",
    "version": 3
   },
   "file_extension": ".py",
   "mimetype": "text/x-python",
   "name": "python",
   "nbconvert_exporter": "python",
   "pygments_lexer": "ipython3",
   "version": "3.7.7"
  }
 },
 "nbformat": 4,
 "nbformat_minor": 4
}
