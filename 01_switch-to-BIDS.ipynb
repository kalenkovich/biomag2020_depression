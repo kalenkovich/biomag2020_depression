{
 "cells": [
  {
   "cell_type": "code",
   "execution_count": 1,
   "metadata": {},
   "outputs": [],
   "source": [
    "from pathlib import Path"
   ]
  },
  {
   "cell_type": "code",
   "execution_count": 2,
   "metadata": {},
   "outputs": [],
   "source": [
    "import mne\n",
    "import mne_bids"
   ]
  },
  {
   "cell_type": "code",
   "execution_count": 3,
   "metadata": {},
   "outputs": [],
   "source": [
    "project_root = Path() / '..'\n",
    "original_data_dir = project_root / 'BIOMAG2020_comp_data'\n",
    "bids_root = project_root / 'data_bids'"
   ]
  },
  {
   "cell_type": "code",
   "execution_count": 4,
   "metadata": {},
   "outputs": [
    {
     "name": "stdout",
     "output_type": "stream",
     "text": [
      "ds directory : ..\\BIOMAG2020_comp_data\\BQBBKEBX_rest_20160310_01.ds\n",
      "    res4 data read.\n",
      "    hc data read.\n",
      "    Separate EEG position data file read.\n",
      "    Quaternion matching (desired vs. transformed):\n",
      "       1.22   70.14   -0.00 mm <->    1.22   70.14   -0.00 mm (orig :  -41.87   55.70 -288.62 mm) diff =    0.000 mm\n",
      "      -1.22  -70.14    0.00 mm <->   -1.22  -70.14    0.00 mm (orig :   53.90  -46.56 -281.26 mm) diff =    0.000 mm\n",
      "     100.53    0.00    0.00 mm <->  100.53    0.00    0.00 mm (orig :   66.31   67.07 -234.29 mm) diff =    0.000 mm\n",
      "    Coordinate transformations established.\n",
      "    Polhemus data for 3 HPI coils added\n",
      "    Device coordinate locations for 3 HPI coils added\n",
      "    Measurement info composed.\n",
      "Finding samples for ..\\BIOMAG2020_comp_data\\BQBBKEBX_rest_20160310_01.ds\\BQBBKEBX_rest_20160310_01.meg4: \n",
      "    System clock channel is available, checking which samples are valid.\n",
      "    1 x 300000 = 300000 samples from 301 chs\n",
      "Current compensation grade : 3\n",
      "ds directory : ..\\BIOMAG2020_comp_data\\BQBBKEBX_rest_20160310_01.ds\n",
      "    res4 data read.\n",
      "    hc data read.\n",
      "    Separate EEG position data file read.\n",
      "    Quaternion matching (desired vs. transformed):\n",
      "       1.22   70.14   -0.00 mm <->    1.22   70.14   -0.00 mm (orig :  -41.87   55.70 -288.62 mm) diff =    0.000 mm\n",
      "      -1.22  -70.14    0.00 mm <->   -1.22  -70.14    0.00 mm (orig :   53.90  -46.56 -281.26 mm) diff =    0.000 mm\n",
      "     100.53    0.00    0.00 mm <->  100.53    0.00    0.00 mm (orig :   66.31   67.07 -234.29 mm) diff =    0.000 mm\n",
      "    Coordinate transformations established.\n",
      "    Polhemus data for 3 HPI coils added\n",
      "    Device coordinate locations for 3 HPI coils added\n",
      "    Measurement info composed.\n",
      "Finding samples for ..\\BIOMAG2020_comp_data\\BQBBKEBX_rest_20160310_01.ds\\BQBBKEBX_rest_20160310_01.meg4: \n",
      "    System clock channel is available, checking which samples are valid.\n",
      "    1 x 300000 = 300000 samples from 301 chs\n",
      "Current compensation grade : 3\n",
      "Creating folder: ..\\data_bids\\sub-BQBBKEBX\\ses-1457629800\\meg\n",
      "\n",
      "Writing '..\\data_bids\\participants.tsv'...\n",
      "\n",
      "participant_id\tage\tsex\thand\n",
      "sub-BQBBKEBX\tn/a\tn/a\tn/a\n",
      "\n",
      "Writing '..\\data_bids\\participants.json'...\n",
      "\n",
      "{\n",
      "    \"participant_id\": {\n",
      "        \"Description\": \"Unique participant identifier\"\n",
      "    },\n",
      "    \"age\": {\n",
      "        \"Description\": \"Age of the participant at time of testing\",\n",
      "        \"Units\": \"years\"\n",
      "    },\n",
      "    \"sex\": {\n",
      "        \"Description\": \"Biological sex of the participant\",\n",
      "        \"Levels\": {\n",
      "            \"F\": \"female\",\n",
      "            \"M\": \"male\"\n",
      "        }\n",
      "    },\n",
      "    \"hand\": {\n",
      "        \"Description\": \"Handedness of the participant\",\n",
      "        \"Levels\": {\n",
      "            \"R\": \"right\",\n",
      "            \"L\": \"left\",\n",
      "            \"A\": \"ambidextrous\"\n",
      "        }\n",
      "    }\n",
      "}\n",
      "\n",
      "Writing '..\\data_bids\\sub-BQBBKEBX\\ses-1457629800\\sub-BQBBKEBX_ses-1457629800_scans.tsv'...\n",
      "\n",
      "filename\tacq_time\n",
      "meg/sub-BQBBKEBX_ses-1457629800_task-restingstate_meg.ds\t2016-03-10T17:10:00\n"
     ]
    },
    {
     "ename": "FileExistsError",
     "evalue": "\"..\\data_bids\\sub-BQBBKEBX\\ses-1457629800\\meg\\sub-BQBBKEBX_ses-1457629800_coordsystem.json\" already exists. Please set overwrite to True.",
     "output_type": "error",
     "traceback": [
      "\u001b[1;31m---------------------------------------------------------------------------\u001b[0m",
      "\u001b[1;31mFileExistsError\u001b[0m                           Traceback (most recent call last)",
      "\u001b[1;32m<ipython-input-4-13d3a7f3e9e2>\u001b[0m in \u001b[0;36m<module>\u001b[1;34m\u001b[0m\n\u001b[0;32m      6\u001b[0m )\n\u001b[0;32m      7\u001b[0m mne_bids.write_raw_bids(\n\u001b[1;32m----> 8\u001b[1;33m     raw=raw, bids_basename=bids_basename, bids_root=bids_root)\n\u001b[0m",
      "\u001b[1;32mC:\\Programs\\Anaconda3\\envs\\biomag2020\\lib\\site-packages\\mne_bids\\write.py\u001b[0m in \u001b[0;36mwrite_raw_bids\u001b[1;34m(raw, bids_basename, bids_root, events_data, event_id, anonymize, overwrite, verbose)\u001b[0m\n\u001b[0;32m   1257\u001b[0m         _coordsystem_json(raw, unit, orient,\n\u001b[0;32m   1258\u001b[0m                           \u001b[0mmanufacturer\u001b[0m\u001b[1;33m,\u001b[0m \u001b[0mcoordsystem_fname\u001b[0m\u001b[1;33m,\u001b[0m \u001b[0mkind\u001b[0m\u001b[1;33m,\u001b[0m\u001b[1;33m\u001b[0m\u001b[1;33m\u001b[0m\u001b[0m\n\u001b[1;32m-> 1259\u001b[1;33m                           overwrite, verbose)\n\u001b[0m\u001b[0;32m   1260\u001b[0m     \u001b[1;32melif\u001b[0m \u001b[0mkind\u001b[0m \u001b[1;33m==\u001b[0m \u001b[1;34m'ieeg'\u001b[0m\u001b[1;33m:\u001b[0m\u001b[1;33m\u001b[0m\u001b[1;33m\u001b[0m\u001b[0m\n\u001b[0;32m   1261\u001b[0m         \u001b[0mcoord_frame\u001b[0m \u001b[1;33m=\u001b[0m \u001b[1;34m\"mri\"\u001b[0m  \u001b[1;31m# defaults to MRI coordinates\u001b[0m\u001b[1;33m\u001b[0m\u001b[1;33m\u001b[0m\u001b[0m\n",
      "\u001b[1;32mC:\\Programs\\Anaconda3\\envs\\biomag2020\\lib\\site-packages\\mne_bids\\write.py\u001b[0m in \u001b[0;36m_coordsystem_json\u001b[1;34m(raw, unit, orient, coordsystem_name, fname, kind, overwrite, verbose)\u001b[0m\n\u001b[0;32m    429\u001b[0m         }\n\u001b[0;32m    430\u001b[0m \u001b[1;33m\u001b[0m\u001b[0m\n\u001b[1;32m--> 431\u001b[1;33m     \u001b[0m_write_json\u001b[0m\u001b[1;33m(\u001b[0m\u001b[0mfname\u001b[0m\u001b[1;33m,\u001b[0m \u001b[0mfid_json\u001b[0m\u001b[1;33m,\u001b[0m \u001b[0moverwrite\u001b[0m\u001b[1;33m,\u001b[0m \u001b[0mverbose\u001b[0m\u001b[1;33m)\u001b[0m\u001b[1;33m\u001b[0m\u001b[1;33m\u001b[0m\u001b[0m\n\u001b[0m\u001b[0;32m    432\u001b[0m \u001b[1;33m\u001b[0m\u001b[0m\n\u001b[0;32m    433\u001b[0m     \u001b[1;32mreturn\u001b[0m \u001b[0mfname\u001b[0m\u001b[1;33m\u001b[0m\u001b[1;33m\u001b[0m\u001b[0m\n",
      "\u001b[1;32mC:\\Programs\\Anaconda3\\envs\\biomag2020\\lib\\site-packages\\mne_bids\\utils.py\u001b[0m in \u001b[0;36m_write_json\u001b[1;34m(fname, dictionary, overwrite, verbose)\u001b[0m\n\u001b[0;32m    385\u001b[0m     \u001b[1;32mif\u001b[0m \u001b[0mop\u001b[0m\u001b[1;33m.\u001b[0m\u001b[0mexists\u001b[0m\u001b[1;33m(\u001b[0m\u001b[0mfname\u001b[0m\u001b[1;33m)\u001b[0m \u001b[1;32mand\u001b[0m \u001b[1;32mnot\u001b[0m \u001b[0moverwrite\u001b[0m\u001b[1;33m:\u001b[0m\u001b[1;33m\u001b[0m\u001b[1;33m\u001b[0m\u001b[0m\n\u001b[0;32m    386\u001b[0m         raise FileExistsError('\"%s\" already exists. Please set '  # noqa: F821\n\u001b[1;32m--> 387\u001b[1;33m                               'overwrite to True.' % fname)\n\u001b[0m\u001b[0;32m    388\u001b[0m \u001b[1;33m\u001b[0m\u001b[0m\n\u001b[0;32m    389\u001b[0m     \u001b[0mjson_output\u001b[0m \u001b[1;33m=\u001b[0m \u001b[0mjson\u001b[0m\u001b[1;33m.\u001b[0m\u001b[0mdumps\u001b[0m\u001b[1;33m(\u001b[0m\u001b[0mdictionary\u001b[0m\u001b[1;33m,\u001b[0m \u001b[0mindent\u001b[0m\u001b[1;33m=\u001b[0m\u001b[1;36m4\u001b[0m\u001b[1;33m)\u001b[0m\u001b[1;33m\u001b[0m\u001b[1;33m\u001b[0m\u001b[0m\n",
      "\u001b[1;31mFileExistsError\u001b[0m: \"..\\data_bids\\sub-BQBBKEBX\\ses-1457629800\\meg\\sub-BQBBKEBX_ses-1457629800_coordsystem.json\" already exists. Please set overwrite to True."
     ]
    }
   ],
   "source": [
    "raw = mne.io.read_raw_ctf(str(original_data_dir / 'BQBBKEBX_rest_20160310_01.ds'))\n",
    "bids_basename = mne_bids.make_bids_basename(\n",
    "    subject=raw.info['subject_info']['his_id'],\n",
    "    session=str(raw.info['meas_id']['secs']),\n",
    "    task='restingstate'\n",
    ")\n",
    "mne_bids.write_raw_bids(\n",
    "    raw=raw, bids_basename=bids_basename, bids_root=bids_root)"
   ]
  }
 ],
 "metadata": {
  "kernelspec": {
   "display_name": "Python 3",
   "language": "python",
   "name": "python3"
  },
  "language_info": {
   "codemirror_mode": {
    "name": "ipython",
    "version": 3
   },
   "file_extension": ".py",
   "mimetype": "text/x-python",
   "name": "python",
   "nbconvert_exporter": "python",
   "pygments_lexer": "ipython3",
   "version": "3.7.7"
  }
 },
 "nbformat": 4,
 "nbformat_minor": 4
}
