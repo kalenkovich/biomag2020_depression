{
 "cells": [
  {
   "cell_type": "code",
   "execution_count": 1,
   "metadata": {},
   "outputs": [],
   "source": [
    "from pathlib import Path\n",
    "import shutil"
   ]
  },
  {
   "cell_type": "code",
   "execution_count": 2,
   "metadata": {},
   "outputs": [],
   "source": [
    "import mne\n",
    "import mne_bids\n",
    "from bids import BIDSLayout, BIDSValidator"
   ]
  },
  {
   "cell_type": "markdown",
   "metadata": {},
   "source": [
    "# Move one file to BIDS "
   ]
  },
  {
   "cell_type": "code",
   "execution_count": 3,
   "metadata": {},
   "outputs": [],
   "source": [
    "project_root = Path() / '..'\n",
    "original_data_dir = project_root / 'BIOMAG2020_comp_data'\n",
    "bids_root = project_root / 'data_bids'"
   ]
  },
  {
   "cell_type": "code",
   "execution_count": 4,
   "metadata": {
    "scrolled": true
   },
   "outputs": [
    {
     "name": "stdout",
     "output_type": "stream",
     "text": [
      "ds directory : ..\\BIOMAG2020_comp_data\\BQBBKEBX_rest_20160310_01.ds\n",
      "    res4 data read.\n",
      "    hc data read.\n",
      "    Separate EEG position data file read.\n",
      "    Quaternion matching (desired vs. transformed):\n",
      "       1.22   70.14   -0.00 mm <->    1.22   70.14   -0.00 mm (orig :  -41.87   55.70 -288.62 mm) diff =    0.000 mm\n",
      "      -1.22  -70.14    0.00 mm <->   -1.22  -70.14    0.00 mm (orig :   53.90  -46.56 -281.26 mm) diff =    0.000 mm\n",
      "     100.53    0.00    0.00 mm <->  100.53    0.00    0.00 mm (orig :   66.31   67.07 -234.29 mm) diff =    0.000 mm\n",
      "    Coordinate transformations established.\n",
      "    Polhemus data for 3 HPI coils added\n",
      "    Device coordinate locations for 3 HPI coils added\n",
      "    Measurement info composed.\n",
      "Finding samples for ..\\BIOMAG2020_comp_data\\BQBBKEBX_rest_20160310_01.ds\\BQBBKEBX_rest_20160310_01.meg4: \n",
      "    System clock channel is available, checking which samples are valid.\n",
      "    1 x 300000 = 300000 samples from 301 chs\n",
      "Current compensation grade : 3\n"
     ]
    }
   ],
   "source": [
    "raw = mne.io.read_raw_ctf(str(original_data_dir / 'BQBBKEBX_rest_20160310_01.ds'))\n",
    "bids_basename = mne_bids.make_bids_basename(\n",
    "    subject=raw.info['subject_info']['his_id'],\n",
    "    session=str(raw.info['meas_id']['secs']),\n",
    "    task='restingstate'\n",
    ")\n",
    "# mne_bids.write_raw_bids(\n",
    "#     raw=raw, bids_basename=bids_basename, bids_root=bids_root)"
   ]
  },
  {
   "cell_type": "markdown",
   "metadata": {},
   "source": [
    "# Save one derivative file "
   ]
  },
  {
   "cell_type": "code",
   "execution_count": 5,
   "metadata": {},
   "outputs": [],
   "source": [
    "input_filepath = bids_root / 'sub-BQBBKEBX' / 'ses-1457629800' / 'meg' / 'sub-BQBBKEBX_ses-1457629800_task-restingstate_meg.json'"
   ]
  },
  {
   "cell_type": "code",
   "execution_count": 6,
   "metadata": {},
   "outputs": [],
   "source": [
    "derivatives_root = bids_root / 'derivatives' / 'test_pipeline'"
   ]
  },
  {
   "cell_type": "code",
   "execution_count": 7,
   "metadata": {},
   "outputs": [],
   "source": [
    "output_filepath = derivatives_root / input_filepath.relative_to(bids_root)"
   ]
  },
  {
   "cell_type": "code",
   "execution_count": 8,
   "metadata": {},
   "outputs": [],
   "source": [
    "output_filepath.parent.mkdir(parents=True, exist_ok=True)"
   ]
  },
  {
   "cell_type": "code",
   "execution_count": 9,
   "metadata": {},
   "outputs": [],
   "source": [
    "if not output_filepath.exists():\n",
    "    shutil.copy(str(input_filepath), str(output_filepath))"
   ]
  },
  {
   "cell_type": "markdown",
   "metadata": {},
   "source": [
    "# Locate files using `pybids`"
   ]
  },
  {
   "cell_type": "code",
   "execution_count": 10,
   "metadata": {},
   "outputs": [
    {
     "data": {
      "text/plain": [
       "BIDS Layout: ...OMAG2020_competetion\\data_bids | Subjects: 1 | Sessions: 1 | Runs: 0"
      ]
     },
     "execution_count": 10,
     "metadata": {},
     "output_type": "execute_result"
    }
   ],
   "source": [
    "# validate=False because bids-validator fails on Windows\n",
    "bids_layout = BIDSLayout(root=bids_root, validate=False)\n",
    "bids_layout"
   ]
  },
  {
   "cell_type": "code",
   "execution_count": 11,
   "metadata": {},
   "outputs": [
    {
     "data": {
      "text/plain": [
       "[WindowsPath('sub-BQBBKEBX/ses-1457629800/meg/sub-BQBBKEBX_ses-1457629800_task-restingstate_meg.json')]"
      ]
     },
     "execution_count": 11,
     "metadata": {},
     "output_type": "execute_result"
    }
   ],
   "source": [
    "# Retrieve filenames of all BOLD runs for subject 01\n",
    "json_files = bids_layout.get(return_type='file', suffix='meg', extension='json')\n",
    "input_files = [Path(filepath).relative_to(bids_root.resolve()) for filepath in json_files]\n",
    "input_files"
   ]
  },
  {
   "cell_type": "code",
   "execution_count": 12,
   "metadata": {},
   "outputs": [
    {
     "data": {
      "text/plain": [
       "True"
      ]
     },
     "execution_count": 12,
     "metadata": {},
     "output_type": "execute_result"
    }
   ],
   "source": [
    "(bids_root / input_files[0]) == input_filepath"
   ]
  }
 ],
 "metadata": {
  "kernelspec": {
   "display_name": "Python 3",
   "language": "python",
   "name": "python3"
  },
  "language_info": {
   "codemirror_mode": {
    "name": "ipython",
    "version": 3
   },
   "file_extension": ".py",
   "mimetype": "text/x-python",
   "name": "python",
   "nbconvert_exporter": "python",
   "pygments_lexer": "ipython3",
   "version": "3.7.7"
  }
 },
 "nbformat": 4,
 "nbformat_minor": 4
}
